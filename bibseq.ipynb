{
 "cells": [
  {
   "cell_type": "code",
   "execution_count": null,
   "metadata": {},
   "outputs": [],
   "source": []
  },
  {
   "cell_type": "markdown",
   "metadata": {},
   "source": [
    "# Bibseq\n",
    "\n",
    "We'd like to break sequences into subsequences,\n",
    "Where each subsequence begins with its leading, smallest element.\n",
    "\n",
    "For example, the list\n",
    "\n",
    "`[ 31, 41, 59, 26, 53, 58, 97, 93, 23, 84, 62, 64, 33 ]`\n",
    "\n",
    "becomes the lists\n",
    "\n",
    "`[31, 41, 59] [26, 53, 58, 97, 93] [23, 84, 62, 64, 33]`\n",
    "\n",
    "Note that the leading elements are strictly monotonically decreasing, \n",
    "and decomposition is both complete and unique.\n",
    "Every element is in a subsequence, \n",
    "subsequences do not overlap, \n",
    "and a sequence can only be decomposed one way."
   ]
  },
  {
   "cell_type": "markdown",
   "metadata": {},
   "source": [
    "## Code"
   ]
  },
  {
   "cell_type": "code",
   "execution_count": 2,
   "metadata": {},
   "outputs": [],
   "source": [
    "def bibseq(sequence):\n",
    "    subsequences = []\n",
    "    current_subsequence = []\n",
    "    leading_element = float('inf')  # Initialize to positive infinity to handle the first subsequence\n",
    "\n",
    "    for element in sequence:\n",
    "        if element < leading_element:\n",
    "            if current_subsequence:\n",
    "                subsequences.append(current_subsequence)\n",
    "            current_subsequence = [element]\n",
    "            leading_element = element\n",
    "        else:\n",
    "            current_subsequence.append(element)\n",
    "\n",
    "    # Add the last subsequence after the loop finishes\n",
    "    if current_subsequence:\n",
    "        subsequences.append(current_subsequence)\n",
    "\n",
    "    return subsequences\n"
   ]
  },
  {
   "cell_type": "markdown",
   "metadata": {},
   "source": [
    "## Unit tests\n"
   ]
  },
  {
   "cell_type": "code",
   "execution_count": null,
   "metadata": {},
   "outputs": [],
   "source": [
    "\n",
    "def test_bibseq():\n",
    "    sequence_1 = [31, 41, 59, 26, 53, 58, 97, 93, 23, 84, 62, 64, 33]\n",
    "    expected_result_1 = [[31, 41, 59], [26, 53, 58, 97, 93], [23, 84, 62, 64, 33]]\n",
    "    assert bibseq(sequence_1) == expected_result_1\n",
    "\n",
    "    sequence_2 = [5, 4, 3, 2, 1]\n",
    "    expected_result_2 = [[5], [4], [3], [2], [1]]\n",
    "    assert bibseq(sequence_2) == expected_result_2\n",
    "\n",
    "    sequence_3 = [10, 20, 30, 40, 50]\n",
    "    expected_result_3 = [[10, 20, 30, 40, 50]]\n",
    "    assert bibseq(sequence_3) == expected_result_3\n",
    "\n",
    "    sequence_4 = [1, 2, 3, 4, 5]\n",
    "    expected_result_4 = [[1, 2, 3, 4, 5]]\n",
    "    assert bibseq(sequence_4) == expected_result_4\n",
    "\n",
    "    sequence_5 = [35, 50, 25, 40, 15, 30, 10, 20]\n",
    "    expected_result_5 = [[35, 50], [25, 40], [15, 30], [10, 20]]\n",
    "    assert bibseq(sequence_5) == expected_result_5\n",
    "\n",
    "    sequence_6 = []\n",
    "    expected_result_6 = []\n",
    "    assert bibseq(sequence_6) == expected_result_6"
   ]
  },
  {
   "cell_type": "code",
   "execution_count": 10,
   "metadata": {},
   "outputs": [],
   "source": [
    "test_bibseq()"
   ]
  }
 ],
 "metadata": {
  "kernelspec": {
   "display_name": "venv",
   "language": "python",
   "name": "python3"
  },
  "language_info": {
   "codemirror_mode": {
    "name": "ipython",
    "version": 3
   },
   "file_extension": ".py",
   "mimetype": "text/x-python",
   "name": "python",
   "nbconvert_exporter": "python",
   "pygments_lexer": "ipython3",
   "version": "3.11.3"
  },
  "orig_nbformat": 4
 },
 "nbformat": 4,
 "nbformat_minor": 2
}
